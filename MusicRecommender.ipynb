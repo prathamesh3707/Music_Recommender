{
 "cells": [
  {
   "cell_type": "code",
   "execution_count": 38,
   "id": "9f8c0a98",
   "metadata": {},
   "outputs": [
    {
     "data": {
      "text/plain": [
       "array(['HipHop'], dtype=object)"
      ]
     },
     "execution_count": 38,
     "metadata": {},
     "output_type": "execute_result"
    }
   ],
   "source": [
    "import pandas as pd\n",
    "from sklearn.tree import DecisionTreeClassifier \n",
    "from sklearn.model_selection import train_test_split\n",
    "from sklearn.metrics import accuracy_score\n",
    "import joblib\n",
    "\n",
    "#Training a model by feeding data in it.\n",
    "# music_data=pd.read_csv('music.csv')\n",
    "# X=music_data.drop(columns=['genre'])\n",
    "# y=music_data['genre']\n",
    "# model= DecisionTreeClassifier()\n",
    "# X_train , X_test , y_train , y_test =train_test_split(X,y,test_size=0.2)\n",
    "# model.fit(X_train,y_train)\n",
    "\n",
    "#predictions=model.predict(X_test)\n",
    "\n",
    "#Dumping a trained model\n",
    "#joblib.dump(model,'music-recommender.joblib')\n",
    "\n",
    "#Creating a already trained model so not to train it at every prediction\n",
    "model=joblib.load('music-recommender.joblib')\n",
    "\n",
    "#testing the model\n",
    "predictions= model.predict([[21,1]])\n",
    "predictions\n",
    "\n",
    "\n",
    "\n",
    "#Here we are calculating the accuracy of predictions using accuracy_score \n",
    "# score=accuracy_score(y_test,predictions)\n",
    "# score\n"
   ]
  }
 ],
 "metadata": {
  "kernelspec": {
   "display_name": "Python 3",
   "language": "python",
   "name": "python3"
  },
  "language_info": {
   "codemirror_mode": {
    "name": "ipython",
    "version": 3
   },
   "file_extension": ".py",
   "mimetype": "text/x-python",
   "name": "python",
   "nbconvert_exporter": "python",
   "pygments_lexer": "ipython3",
   "version": "3.8.8"
  }
 },
 "nbformat": 4,
 "nbformat_minor": 5
}
